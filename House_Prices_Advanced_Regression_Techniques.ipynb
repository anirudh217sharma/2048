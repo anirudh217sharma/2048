{
  "nbformat": 4,
  "nbformat_minor": 0,
  "metadata": {
    "colab": {
      "provenance": [],
      "mount_file_id": "1U2To7SQw4QRdFG1xQlv5EiJzzLUj1yXu",
      "authorship_tag": "ABX9TyNp3saTH8TTmWpPkv40lec8",
      "include_colab_link": true
    },
    "kernelspec": {
      "name": "python3",
      "display_name": "Python 3"
    },
    "language_info": {
      "name": "python"
    }
  },
  "cells": [
    {
      "cell_type": "markdown",
      "metadata": {
        "id": "view-in-github",
        "colab_type": "text"
      },
      "source": [
        "<a href=\"https://colab.research.google.com/github/anirudh217sharma/2048/blob/master/House_Prices_Advanced_Regression_Techniques.ipynb\" target=\"_parent\"><img src=\"https://colab.research.google.com/assets/colab-badge.svg\" alt=\"Open In Colab\"/></a>"
      ]
    },
    {
      "cell_type": "markdown",
      "source": [
        "<font color=orange>**Kaggle Knowledge Comp1 : House Prices - Advanced Regression Techniques **</font>"
      ],
      "metadata": {
        "id": "St_kXmIbl32u"
      }
    },
    {
      "cell_type": "code",
      "execution_count": 3,
      "metadata": {
        "id": "HZTXInhGjk6J"
      },
      "outputs": [],
      "source": [
        "# Import the pandas library for data manipulation and analysis\n",
        "import pandas as pd\n",
        "\n",
        "# Import the numpy library for numerical computing\n",
        "import numpy as np\n",
        "\n",
        "# Import the matplotlib library for creating visualizations\n",
        "import matplotlib.pyplot as plt\n",
        "\n",
        "# Import the seaborn library for advanced visualizations\n",
        "import seaborn as sns\n",
        "\n",
        "# Import the scikit-learn library for machine learning\n",
        "from sklearn.model_selection import train_test_split\n",
        "from sklearn.linear_model import LinearRegression\n",
        "from sklearn.metrics import mean_squared_error, r2_score\n",
        "\n",
        "# Import the scipy library for scientific computing\n",
        "import scipy as sp\n",
        "\n",
        "# Import the statsmodels library for statistical modeling\n",
        "import statsmodels.api as sm\n",
        "\n",
        "# Import the patsy library for building statistical models\n",
        "import patsy"
      ]
    },
    {
      "cell_type": "code",
      "source": [
        "# Run this cell to connect to your Drive folder\n",
        "\n",
        "from google.colab import drive\n",
        "drive.mount('/content/gdrive')"
      ],
      "metadata": {
        "colab": {
          "base_uri": "https://localhost:8080/"
        },
        "id": "hxWxui43nmp6",
        "outputId": "7f8c3ea9-8916-4744-a81b-8c074ac5c67a"
      },
      "execution_count": 4,
      "outputs": [
        {
          "output_type": "stream",
          "name": "stdout",
          "text": [
            "Mounted at /content/gdrive\n"
          ]
        }
      ]
    },
    {
      "cell_type": "code",
      "source": [
        "data_dir = 'gdrive/MyDrive/Academics-UIUC/House Prices/house-prices-advanced-regression-techniques'\n",
        "train = pd.read_csv(data_dir + '/train.csv')\n",
        "test  = pd.read_csv(data_dir + '/test.csv')"
      ],
      "metadata": {
        "id": "z1xQS7Oel1i0"
      },
      "execution_count": 7,
      "outputs": []
    },
    {
      "cell_type": "code",
      "source": [
        "print(f'Number of trainaing examples : {len(train)}')\n",
        "print(f'Number of validation examples : {len(test)}')"
      ],
      "metadata": {
        "colab": {
          "base_uri": "https://localhost:8080/"
        },
        "id": "lHss5eGQnukx",
        "outputId": "6950e988-d12e-4cb5-9511-4e1fc0ebcc55"
      },
      "execution_count": 8,
      "outputs": [
        {
          "output_type": "stream",
          "name": "stdout",
          "text": [
            "Number of trainaing examples : 1460\n",
            "Number of validation examples : 1459\n"
          ]
        }
      ]
    },
    {
      "cell_type": "code",
      "source": [],
      "metadata": {
        "id": "6a41xVmAoGvl"
      },
      "execution_count": null,
      "outputs": []
    }
  ]
}